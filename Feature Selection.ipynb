{
 "cells": [
  {
   "cell_type": "markdown",
   "metadata": {},
   "source": [
    "# Feature Selection with sklearn and Pandas"
   ]
  },
  {
   "cell_type": "markdown",
   "metadata": {},
   "source": [
    "Here we have a problem of Energy Consumption, where we would like to understand which are the features that are more relevant for the model.\n",
    "\n",
    "My inspiration comes from this articule: \n",
    "https://towardsdatascience.com/feature-selection-with-pandas-e3690ad8504b"
   ]
  },
  {
   "cell_type": "code",
   "execution_count": 1,
   "metadata": {},
   "outputs": [],
   "source": [
    "# Import required packages\n",
    "import pandas as pd\n",
    "import numpy as np\n",
    "import matplotlib.pyplot as plt\n",
    "%matplotlib inline"
   ]
  },
  {
   "cell_type": "markdown",
   "metadata": {},
   "source": [
    "## Data reading and prep"
   ]
  },
  {
   "cell_type": "code",
   "execution_count": 2,
   "metadata": {},
   "outputs": [
    {
     "data": {
      "text/html": [
       "<div>\n",
       "<style scoped>\n",
       "    .dataframe tbody tr th:only-of-type {\n",
       "        vertical-align: middle;\n",
       "    }\n",
       "\n",
       "    .dataframe tbody tr th {\n",
       "        vertical-align: top;\n",
       "    }\n",
       "\n",
       "    .dataframe thead th {\n",
       "        text-align: right;\n",
       "    }\n",
       "</style>\n",
       "<table border=\"1\" class=\"dataframe\">\n",
       "  <thead>\n",
       "    <tr style=\"text-align: right;\">\n",
       "      <th></th>\n",
       "      <th>operating_date</th>\n",
       "      <th>visits</th>\n",
       "    </tr>\n",
       "  </thead>\n",
       "  <tbody>\n",
       "    <tr>\n",
       "      <th>0</th>\n",
       "      <td>2018-10-08</td>\n",
       "      <td>336</td>\n",
       "    </tr>\n",
       "    <tr>\n",
       "      <th>1</th>\n",
       "      <td>2018-10-09</td>\n",
       "      <td>336</td>\n",
       "    </tr>\n",
       "    <tr>\n",
       "      <th>2</th>\n",
       "      <td>2018-10-10</td>\n",
       "      <td>238</td>\n",
       "    </tr>\n",
       "    <tr>\n",
       "      <th>3</th>\n",
       "      <td>2018-10-11</td>\n",
       "      <td>328</td>\n",
       "    </tr>\n",
       "    <tr>\n",
       "      <th>4</th>\n",
       "      <td>2018-10-12</td>\n",
       "      <td>19</td>\n",
       "    </tr>\n",
       "    <tr>\n",
       "      <th>...</th>\n",
       "      <td>...</td>\n",
       "      <td>...</td>\n",
       "    </tr>\n",
       "    <tr>\n",
       "      <th>360</th>\n",
       "      <td>2019-10-03</td>\n",
       "      <td>141</td>\n",
       "    </tr>\n",
       "    <tr>\n",
       "      <th>361</th>\n",
       "      <td>2019-10-04</td>\n",
       "      <td>112</td>\n",
       "    </tr>\n",
       "    <tr>\n",
       "      <th>362</th>\n",
       "      <td>2019-10-05</td>\n",
       "      <td>2</td>\n",
       "    </tr>\n",
       "    <tr>\n",
       "      <th>363</th>\n",
       "      <td>2019-10-06</td>\n",
       "      <td>0</td>\n",
       "    </tr>\n",
       "    <tr>\n",
       "      <th>364</th>\n",
       "      <td>2019-10-07</td>\n",
       "      <td>146</td>\n",
       "    </tr>\n",
       "  </tbody>\n",
       "</table>\n",
       "<p>365 rows × 2 columns</p>\n",
       "</div>"
      ],
      "text/plain": [
       "    operating_date  visits\n",
       "0       2018-10-08     336\n",
       "1       2018-10-09     336\n",
       "2       2018-10-10     238\n",
       "3       2018-10-11     328\n",
       "4       2018-10-12      19\n",
       "..             ...     ...\n",
       "360     2019-10-03     141\n",
       "361     2019-10-04     112\n",
       "362     2019-10-05       2\n",
       "363     2019-10-06       0\n",
       "364     2019-10-07     146\n",
       "\n",
       "[365 rows x 2 columns]"
      ]
     },
     "execution_count": 2,
     "metadata": {},
     "output_type": "execute_result"
    }
   ],
   "source": [
    "# wifi counts number of people per day\n",
    "wifi = pd.read_csv(r\"C:\\Users\\Javiera Vines\\Documents\\Projects\\Square Sense\\2020-01-29_data-analyst-intern-building-dataset\\2020-01-29_data-analyst-intern-building-dataset\\wifi_visits.csv\")\n",
    "wifi"
   ]
  },
  {
   "cell_type": "code",
   "execution_count": 3,
   "metadata": {},
   "outputs": [
    {
     "data": {
      "text/html": [
       "<div>\n",
       "<style scoped>\n",
       "    .dataframe tbody tr th:only-of-type {\n",
       "        vertical-align: middle;\n",
       "    }\n",
       "\n",
       "    .dataframe tbody tr th {\n",
       "        vertical-align: top;\n",
       "    }\n",
       "\n",
       "    .dataframe thead th {\n",
       "        text-align: right;\n",
       "    }\n",
       "</style>\n",
       "<table border=\"1\" class=\"dataframe\">\n",
       "  <thead>\n",
       "    <tr style=\"text-align: right;\">\n",
       "      <th></th>\n",
       "      <th>local_time</th>\n",
       "      <th>energy_consumed</th>\n",
       "      <th>sensor</th>\n",
       "    </tr>\n",
       "  </thead>\n",
       "  <tbody>\n",
       "    <tr>\n",
       "      <th>0</th>\n",
       "      <td>2018-10-08T00:00:00</td>\n",
       "      <td>203495</td>\n",
       "      <td>elevator-eec-meter</td>\n",
       "    </tr>\n",
       "    <tr>\n",
       "      <th>1</th>\n",
       "      <td>2018-10-08T00:00:00</td>\n",
       "      <td>1368750</td>\n",
       "      <td>hvac-eec-meter</td>\n",
       "    </tr>\n",
       "    <tr>\n",
       "      <th>2</th>\n",
       "      <td>2018-10-08T01:00:00</td>\n",
       "      <td>210536</td>\n",
       "      <td>elevator-eec-meter</td>\n",
       "    </tr>\n",
       "    <tr>\n",
       "      <th>3</th>\n",
       "      <td>2018-10-08T01:00:00</td>\n",
       "      <td>1373077</td>\n",
       "      <td>hvac-eec-meter</td>\n",
       "    </tr>\n",
       "    <tr>\n",
       "      <th>4</th>\n",
       "      <td>2018-10-08T02:00:00</td>\n",
       "      <td>188568</td>\n",
       "      <td>elevator-eec-meter</td>\n",
       "    </tr>\n",
       "  </tbody>\n",
       "</table>\n",
       "</div>"
      ],
      "text/plain": [
       "            local_time  energy_consumed              sensor\n",
       "0  2018-10-08T00:00:00           203495  elevator-eec-meter\n",
       "1  2018-10-08T00:00:00          1368750      hvac-eec-meter\n",
       "2  2018-10-08T01:00:00           210536  elevator-eec-meter\n",
       "3  2018-10-08T01:00:00          1373077      hvac-eec-meter\n",
       "4  2018-10-08T02:00:00           188568  elevator-eec-meter"
      ]
     },
     "execution_count": 3,
     "metadata": {},
     "output_type": "execute_result"
    }
   ],
   "source": [
    "#electrical consumption data hourly elevator & hvac (air conditioning)\n",
    "eec = pd.read_csv(r\"C:\\Users\\Javiera Vines\\Documents\\Projects\\Square Sense\\2020-01-29_data-analyst-intern-building-dataset\\2020-01-29_data-analyst-intern-building-dataset\\eec.csv\")\n",
    "eec.head(5)"
   ]
  },
  {
   "cell_type": "code",
   "execution_count": 5,
   "metadata": {},
   "outputs": [
    {
     "data": {
      "text/plain": [
       "str"
      ]
     },
     "execution_count": 5,
     "metadata": {},
     "output_type": "execute_result"
    }
   ],
   "source": [
    "type(eec[\"local_time\"][0]) # currently this variable is a str we will convert it to datetimeformat to extract the date only"
   ]
  },
  {
   "cell_type": "code",
   "execution_count": 6,
   "metadata": {},
   "outputs": [
    {
     "data": {
      "text/html": [
       "<div>\n",
       "<style scoped>\n",
       "    .dataframe tbody tr th:only-of-type {\n",
       "        vertical-align: middle;\n",
       "    }\n",
       "\n",
       "    .dataframe tbody tr th {\n",
       "        vertical-align: top;\n",
       "    }\n",
       "\n",
       "    .dataframe thead th {\n",
       "        text-align: right;\n",
       "    }\n",
       "</style>\n",
       "<table border=\"1\" class=\"dataframe\">\n",
       "  <thead>\n",
       "    <tr style=\"text-align: right;\">\n",
       "      <th></th>\n",
       "      <th>local_time</th>\n",
       "      <th>energy_consumed</th>\n",
       "      <th>sensor</th>\n",
       "      <th>local_time2</th>\n",
       "    </tr>\n",
       "  </thead>\n",
       "  <tbody>\n",
       "    <tr>\n",
       "      <th>0</th>\n",
       "      <td>2018-10-08T00:00:00</td>\n",
       "      <td>203495</td>\n",
       "      <td>elevator-eec-meter</td>\n",
       "      <td>2018-10-08 00:00:00</td>\n",
       "    </tr>\n",
       "    <tr>\n",
       "      <th>1</th>\n",
       "      <td>2018-10-08T00:00:00</td>\n",
       "      <td>1368750</td>\n",
       "      <td>hvac-eec-meter</td>\n",
       "      <td>2018-10-08 00:00:00</td>\n",
       "    </tr>\n",
       "    <tr>\n",
       "      <th>2</th>\n",
       "      <td>2018-10-08T01:00:00</td>\n",
       "      <td>210536</td>\n",
       "      <td>elevator-eec-meter</td>\n",
       "      <td>2018-10-08 01:00:00</td>\n",
       "    </tr>\n",
       "    <tr>\n",
       "      <th>3</th>\n",
       "      <td>2018-10-08T01:00:00</td>\n",
       "      <td>1373077</td>\n",
       "      <td>hvac-eec-meter</td>\n",
       "      <td>2018-10-08 01:00:00</td>\n",
       "    </tr>\n",
       "    <tr>\n",
       "      <th>4</th>\n",
       "      <td>2018-10-08T02:00:00</td>\n",
       "      <td>188568</td>\n",
       "      <td>elevator-eec-meter</td>\n",
       "      <td>2018-10-08 02:00:00</td>\n",
       "    </tr>\n",
       "  </tbody>\n",
       "</table>\n",
       "</div>"
      ],
      "text/plain": [
       "            local_time  energy_consumed              sensor  \\\n",
       "0  2018-10-08T00:00:00           203495  elevator-eec-meter   \n",
       "1  2018-10-08T00:00:00          1368750      hvac-eec-meter   \n",
       "2  2018-10-08T01:00:00           210536  elevator-eec-meter   \n",
       "3  2018-10-08T01:00:00          1373077      hvac-eec-meter   \n",
       "4  2018-10-08T02:00:00           188568  elevator-eec-meter   \n",
       "\n",
       "          local_time2  \n",
       "0 2018-10-08 00:00:00  \n",
       "1 2018-10-08 00:00:00  \n",
       "2 2018-10-08 01:00:00  \n",
       "3 2018-10-08 01:00:00  \n",
       "4 2018-10-08 02:00:00  "
      ]
     },
     "execution_count": 6,
     "metadata": {},
     "output_type": "execute_result"
    }
   ],
   "source": [
    "eec['local_time2']= pd.to_datetime(eec['local_time']) \n",
    "eec.head()"
   ]
  },
  {
   "cell_type": "code",
   "execution_count": 7,
   "metadata": {},
   "outputs": [
    {
     "data": {
      "text/plain": [
       "pandas._libs.tslibs.timestamps.Timestamp"
      ]
     },
     "execution_count": 7,
     "metadata": {},
     "output_type": "execute_result"
    }
   ],
   "source": [
    "type(eec[\"local_time2\"][0]) #check datatype"
   ]
  },
  {
   "cell_type": "code",
   "execution_count": 12,
   "metadata": {},
   "outputs": [
    {
     "data": {
      "text/html": [
       "<div>\n",
       "<style scoped>\n",
       "    .dataframe tbody tr th:only-of-type {\n",
       "        vertical-align: middle;\n",
       "    }\n",
       "\n",
       "    .dataframe tbody tr th {\n",
       "        vertical-align: top;\n",
       "    }\n",
       "\n",
       "    .dataframe thead th {\n",
       "        text-align: right;\n",
       "    }\n",
       "</style>\n",
       "<table border=\"1\" class=\"dataframe\">\n",
       "  <thead>\n",
       "    <tr style=\"text-align: right;\">\n",
       "      <th></th>\n",
       "      <th>local_time</th>\n",
       "      <th>energy_consumed</th>\n",
       "      <th>sensor</th>\n",
       "      <th>local_time2</th>\n",
       "    </tr>\n",
       "  </thead>\n",
       "  <tbody>\n",
       "    <tr>\n",
       "      <th>0</th>\n",
       "      <td>2018-10-08</td>\n",
       "      <td>203495</td>\n",
       "      <td>elevator-eec-meter</td>\n",
       "      <td>2018-10-08 00:00:00</td>\n",
       "    </tr>\n",
       "    <tr>\n",
       "      <th>1</th>\n",
       "      <td>2018-10-08</td>\n",
       "      <td>1368750</td>\n",
       "      <td>hvac-eec-meter</td>\n",
       "      <td>2018-10-08 00:00:00</td>\n",
       "    </tr>\n",
       "    <tr>\n",
       "      <th>2</th>\n",
       "      <td>2018-10-08</td>\n",
       "      <td>210536</td>\n",
       "      <td>elevator-eec-meter</td>\n",
       "      <td>2018-10-08 01:00:00</td>\n",
       "    </tr>\n",
       "    <tr>\n",
       "      <th>3</th>\n",
       "      <td>2018-10-08</td>\n",
       "      <td>1373077</td>\n",
       "      <td>hvac-eec-meter</td>\n",
       "      <td>2018-10-08 01:00:00</td>\n",
       "    </tr>\n",
       "    <tr>\n",
       "      <th>4</th>\n",
       "      <td>2018-10-08</td>\n",
       "      <td>188568</td>\n",
       "      <td>elevator-eec-meter</td>\n",
       "      <td>2018-10-08 02:00:00</td>\n",
       "    </tr>\n",
       "  </tbody>\n",
       "</table>\n",
       "</div>"
      ],
      "text/plain": [
       "   local_time  energy_consumed              sensor         local_time2\n",
       "0  2018-10-08           203495  elevator-eec-meter 2018-10-08 00:00:00\n",
       "1  2018-10-08          1368750      hvac-eec-meter 2018-10-08 00:00:00\n",
       "2  2018-10-08           210536  elevator-eec-meter 2018-10-08 01:00:00\n",
       "3  2018-10-08          1373077      hvac-eec-meter 2018-10-08 01:00:00\n",
       "4  2018-10-08           188568  elevator-eec-meter 2018-10-08 02:00:00"
      ]
     },
     "execution_count": 12,
     "metadata": {},
     "output_type": "execute_result"
    }
   ],
   "source": [
    "#replace the column local_time with date only\n",
    "eec['local_time'] = eec['local_time2'].dt.date\n",
    "eec.head()"
   ]
  },
  {
   "cell_type": "code",
   "execution_count": 13,
   "metadata": {},
   "outputs": [
    {
     "data": {
      "text/plain": [
       "datetime.date"
      ]
     },
     "execution_count": 13,
     "metadata": {},
     "output_type": "execute_result"
    }
   ],
   "source": [
    "type(eec[\"local_time\"][0]) #check datatype"
   ]
  },
  {
   "cell_type": "code",
   "execution_count": 14,
   "metadata": {
    "scrolled": true
   },
   "outputs": [
    {
     "data": {
      "text/html": [
       "<div>\n",
       "<style scoped>\n",
       "    .dataframe tbody tr th:only-of-type {\n",
       "        vertical-align: middle;\n",
       "    }\n",
       "\n",
       "    .dataframe tbody tr th {\n",
       "        vertical-align: top;\n",
       "    }\n",
       "\n",
       "    .dataframe thead th {\n",
       "        text-align: right;\n",
       "    }\n",
       "</style>\n",
       "<table border=\"1\" class=\"dataframe\">\n",
       "  <thead>\n",
       "    <tr style=\"text-align: right;\">\n",
       "      <th></th>\n",
       "      <th>apparentTemperature</th>\n",
       "      <th>cloudCover</th>\n",
       "      <th>dewPoint</th>\n",
       "      <th>humidity</th>\n",
       "      <th>icon</th>\n",
       "      <th>ozone</th>\n",
       "      <th>precipIntensity</th>\n",
       "      <th>precipProbability</th>\n",
       "      <th>precipType</th>\n",
       "      <th>pressure</th>\n",
       "      <th>temperature</th>\n",
       "      <th>time</th>\n",
       "      <th>uvIndex</th>\n",
       "      <th>visibility</th>\n",
       "      <th>windBearing</th>\n",
       "      <th>windGust</th>\n",
       "      <th>windSpeed</th>\n",
       "    </tr>\n",
       "  </thead>\n",
       "  <tbody>\n",
       "    <tr>\n",
       "      <th>0</th>\n",
       "      <td>23.01</td>\n",
       "      <td>0.73</td>\n",
       "      <td>11.00</td>\n",
       "      <td>0.47</td>\n",
       "      <td>fog</td>\n",
       "      <td>319.5</td>\n",
       "      <td>0.1081</td>\n",
       "      <td>0.10</td>\n",
       "      <td>rain</td>\n",
       "      <td>1015.83</td>\n",
       "      <td>23.01</td>\n",
       "      <td>2019-08-26T05:00:00+0000</td>\n",
       "      <td>0.0</td>\n",
       "      <td>2.312</td>\n",
       "      <td>78.0</td>\n",
       "      <td>8.21</td>\n",
       "      <td>3.88</td>\n",
       "    </tr>\n",
       "    <tr>\n",
       "      <th>1</th>\n",
       "      <td>21.94</td>\n",
       "      <td>0.19</td>\n",
       "      <td>10.93</td>\n",
       "      <td>0.50</td>\n",
       "      <td>fog</td>\n",
       "      <td>322.6</td>\n",
       "      <td>0.1826</td>\n",
       "      <td>0.17</td>\n",
       "      <td>rain</td>\n",
       "      <td>1016.02</td>\n",
       "      <td>21.94</td>\n",
       "      <td>2019-08-26T06:00:00+0000</td>\n",
       "      <td>0.0</td>\n",
       "      <td>2.693</td>\n",
       "      <td>83.0</td>\n",
       "      <td>8.22</td>\n",
       "      <td>3.43</td>\n",
       "    </tr>\n",
       "    <tr>\n",
       "      <th>2</th>\n",
       "      <td>17.04</td>\n",
       "      <td>0.75</td>\n",
       "      <td>16.38</td>\n",
       "      <td>0.98</td>\n",
       "      <td>fog</td>\n",
       "      <td>303.6</td>\n",
       "      <td>0.9554</td>\n",
       "      <td>0.22</td>\n",
       "      <td>rain</td>\n",
       "      <td>1022.58</td>\n",
       "      <td>16.76</td>\n",
       "      <td>2019-09-14T22:00:00+0000</td>\n",
       "      <td>0.0</td>\n",
       "      <td>1.828</td>\n",
       "      <td>57.0</td>\n",
       "      <td>4.34</td>\n",
       "      <td>3.10</td>\n",
       "    </tr>\n",
       "    <tr>\n",
       "      <th>3</th>\n",
       "      <td>16.41</td>\n",
       "      <td>0.62</td>\n",
       "      <td>16.13</td>\n",
       "      <td>1.00</td>\n",
       "      <td>fog</td>\n",
       "      <td>301.0</td>\n",
       "      <td>1.2150</td>\n",
       "      <td>0.22</td>\n",
       "      <td>rain</td>\n",
       "      <td>1022.81</td>\n",
       "      <td>16.13</td>\n",
       "      <td>2019-09-14T23:00:00+0000</td>\n",
       "      <td>0.0</td>\n",
       "      <td>0.000</td>\n",
       "      <td>70.0</td>\n",
       "      <td>4.53</td>\n",
       "      <td>1.17</td>\n",
       "    </tr>\n",
       "    <tr>\n",
       "      <th>4</th>\n",
       "      <td>16.97</td>\n",
       "      <td>0.57</td>\n",
       "      <td>16.24</td>\n",
       "      <td>0.97</td>\n",
       "      <td>fog</td>\n",
       "      <td>301.3</td>\n",
       "      <td>1.1289</td>\n",
       "      <td>0.23</td>\n",
       "      <td>rain</td>\n",
       "      <td>1022.64</td>\n",
       "      <td>16.71</td>\n",
       "      <td>2019-09-15T00:00:00+0000</td>\n",
       "      <td>0.0</td>\n",
       "      <td>0.000</td>\n",
       "      <td>55.0</td>\n",
       "      <td>5.36</td>\n",
       "      <td>2.16</td>\n",
       "    </tr>\n",
       "  </tbody>\n",
       "</table>\n",
       "</div>"
      ],
      "text/plain": [
       "   apparentTemperature  cloudCover  dewPoint  humidity icon  ozone  \\\n",
       "0                23.01        0.73     11.00      0.47  fog  319.5   \n",
       "1                21.94        0.19     10.93      0.50  fog  322.6   \n",
       "2                17.04        0.75     16.38      0.98  fog  303.6   \n",
       "3                16.41        0.62     16.13      1.00  fog  301.0   \n",
       "4                16.97        0.57     16.24      0.97  fog  301.3   \n",
       "\n",
       "   precipIntensity  precipProbability precipType  pressure  temperature  \\\n",
       "0           0.1081               0.10       rain   1015.83        23.01   \n",
       "1           0.1826               0.17       rain   1016.02        21.94   \n",
       "2           0.9554               0.22       rain   1022.58        16.76   \n",
       "3           1.2150               0.22       rain   1022.81        16.13   \n",
       "4           1.1289               0.23       rain   1022.64        16.71   \n",
       "\n",
       "                       time  uvIndex  visibility  windBearing  windGust  \\\n",
       "0  2019-08-26T05:00:00+0000      0.0       2.312         78.0      8.21   \n",
       "1  2019-08-26T06:00:00+0000      0.0       2.693         83.0      8.22   \n",
       "2  2019-09-14T22:00:00+0000      0.0       1.828         57.0      4.34   \n",
       "3  2019-09-14T23:00:00+0000      0.0       0.000         70.0      4.53   \n",
       "4  2019-09-15T00:00:00+0000      0.0       0.000         55.0      5.36   \n",
       "\n",
       "   windSpeed  \n",
       "0       3.88  \n",
       "1       3.43  \n",
       "2       3.10  \n",
       "3       1.17  \n",
       "4       2.16  "
      ]
     },
     "execution_count": 14,
     "metadata": {},
     "output_type": "execute_result"
    }
   ],
   "source": [
    "weather = pd.read_csv(r\"C:\\Users\\Javiera Vines\\Documents\\Projects\\Square Sense\\2020-01-29_data-analyst-intern-building-dataset\\2020-01-29_data-analyst-intern-building-dataset\\weather.csv\")\n",
    "weather.head(5)"
   ]
  },
  {
   "cell_type": "code",
   "execution_count": null,
   "metadata": {},
   "outputs": [],
   "source": [
    "weather.count()"
   ]
  },
  {
   "cell_type": "code",
   "execution_count": null,
   "metadata": {},
   "outputs": [],
   "source": [
    "#here we proceed to modify the \"time\" column because the format is different from the other tables\n",
    "day_list = []\n",
    "for date in weather[\"time\"]:\n",
    "    day = date[:10]\n",
    "    day_list.append(day)\n",
    "    \n",
    "day_df = pd.DataFrame(day_list, columns = [\"date\"]) \n",
    "weather_new = pd.concat([weather, day_df], axis = 1)\n",
    "weather_new.head(5)"
   ]
  },
  {
   "cell_type": "code",
   "execution_count": null,
   "metadata": {},
   "outputs": [],
   "source": [
    "weather[\"time\"].dtype"
   ]
  },
  {
   "cell_type": "code",
   "execution_count": null,
   "metadata": {},
   "outputs": [],
   "source": [
    "weather['time2']= pd.to_datetime(weather['time'])\n",
    "weather[\"time2\"].dtype"
   ]
  },
  {
   "cell_type": "markdown",
   "metadata": {},
   "source": [
    "For energy consumption in HVAC system it is very important to understand its relationship with the daily heating/cooling degree days. This indicator -also known as HDD - corresponds to the number of degrees that the outdoor air temperature is below a reference temperature over a given time interval (and CDD when the air temperature is above the reference temperature).\n",
    "\n",
    "Usually, the reference temperature is 18°C, so we will compute HDD and CDD compared if it is below 18 °C and above 18 °C respectively."
   ]
  },
  {
   "cell_type": "code",
   "execution_count": null,
   "metadata": {},
   "outputs": [],
   "source": [
    "weather['time3'] = weather['time2'].dt.date"
   ]
  },
  {
   "cell_type": "code",
   "execution_count": null,
   "metadata": {},
   "outputs": [],
   "source": [
    "weather[\"time3\"]"
   ]
  },
  {
   "cell_type": "code",
   "execution_count": null,
   "metadata": {},
   "outputs": [],
   "source": [
    "weather[\"time3\"].value_counts()"
   ]
  },
  {
   "cell_type": "code",
   "execution_count": null,
   "metadata": {},
   "outputs": [],
   "source": [
    "count = weather[\"time3\"].value_counts()\n",
    "count.dtype"
   ]
  },
  {
   "cell_type": "code",
   "execution_count": null,
   "metadata": {},
   "outputs": [],
   "source": [
    "#we see how these values are distributed\n",
    "#import pylab as pl\n",
    "viz = count\n",
    "viz.hist()\n",
    "plt.show()"
   ]
  },
  {
   "cell_type": "markdown",
   "metadata": {},
   "source": [
    "To simplify the model I will only work with the average value of HDD/CDD. However the correct way would be to take all the values"
   ]
  },
  {
   "cell_type": "code",
   "execution_count": null,
   "metadata": {},
   "outputs": [],
   "source": [
    "#we proceed to estimate the mean values\n",
    "mean_weather_new = weather_new.groupby('date').mean()\n",
    "mean_weather_new.head(5)"
   ]
  },
  {
   "cell_type": "code",
   "execution_count": null,
   "metadata": {},
   "outputs": [],
   "source": [
    "#create HDD and CDD\n",
    "def temp_deg (row):\n",
    "    if row['temperature'] > 18 :\n",
    "        val = \"CDD\"\n",
    "    else:\n",
    "        val = \"HDD\"\n",
    "    return val\n",
    "\n",
    "#create values\n",
    "def temp_value (row):\n",
    "    if row['temperature'] > 18 :\n",
    "        val = row[\"temperature\"] - 18\n",
    "    else:\n",
    "        val = 18 - row[\"temperature\"]\n",
    "    return val\n",
    "\n",
    "mean_weather_new['HDD/CDD'] = mean_weather_new.apply(temp_deg, axis=1) #create the column with HDD/CDD (as categories)\n",
    "mean_weather_new['Degree_Dif'] = mean_weather_new.apply(temp_value, axis=1) #calculate the HDD/CDD values\n",
    "\n",
    "mean_weather_new.head(20)"
   ]
  },
  {
   "cell_type": "code",
   "execution_count": null,
   "metadata": {},
   "outputs": [],
   "source": [
    "#observe how they are distributed\n",
    "mean_weather_new['HDD/CDD'].value_counts()"
   ]
  },
  {
   "cell_type": "code",
   "execution_count": null,
   "metadata": {},
   "outputs": [],
   "source": [
    "#HDD / CDD - create one hot code feature to analyze it later\n",
    "dummies = pd.get_dummies(mean_weather_new['HDD/CDD'])\n",
    "dummies = dummies.drop(columns = [\"CDD\"])\n",
    "\n",
    "mean_weather_new = pd.concat([mean_weather_new, dummies], axis = 1)\n",
    "mean_weather_new"
   ]
  },
  {
   "cell_type": "markdown",
   "metadata": {},
   "source": [
    "### Feature Selection\n",
    "\n",
    "Here we will expose statistical relationships between the energy consumption of the elevator, the energy consumption of the HVAC system, WiFi visits, and weather conditions (in particular heating/cooling degree days)."
   ]
  },
  {
   "cell_type": "code",
   "execution_count": null,
   "metadata": {},
   "outputs": [],
   "source": [
    "mean_weather_new.shape"
   ]
  },
  {
   "cell_type": "code",
   "execution_count": null,
   "metadata": {},
   "outputs": [],
   "source": [
    "#find missing values\n",
    "mean_weather_new.isnull().sum()"
   ]
  },
  {
   "cell_type": "markdown",
   "metadata": {},
   "source": [
    "First, of 366 rows there are 199 missing values corresponding to different features. For this reason, these features are going to be deleted.\n",
    "\n",
    "Features windGust and cloudCover are going be deleted as well due to the missing values represent 15% and 26% of the data that is missing repectively.\n",
    "\n",
    "Finally, HDD/CDD will be deleted as well, because we will keep the dummified variable HDD (one-hot-code)."
   ]
  },
  {
   "cell_type": "code",
   "execution_count": null,
   "metadata": {},
   "outputs": [],
   "source": [
    "mean_weather_new = mean_weather_new.drop(columns = [\"cloudCover\",'ozone',\"precipIntensity\",\"precipProbability\",\"pressure\",\"windGust\",\"HDD/CDD\"])\n",
    "mean_weather_new.head(5)"
   ]
  },
  {
   "cell_type": "code",
   "execution_count": null,
   "metadata": {},
   "outputs": [],
   "source": [
    "eec_day = eec_day.set_index('date')\n",
    "eec_day"
   ]
  },
  {
   "cell_type": "code",
   "execution_count": null,
   "metadata": {},
   "outputs": [],
   "source": [
    "#Now we are going to merge all the datasets\n",
    "#as this dataset has two sensor categories, we will divide this categories into two different columns, where we estimate the mean Energy Consumption of each sensor\n",
    "eec_hvac = eec_day[(eec_day.sensor == \"hvac-eec-meter\")]\n",
    "mean_eec_hvac = eec_hvac.groupby('date').mean()\n",
    "mean_eec_hvac = mean_eec_hvac.rename(columns={\"energy_consumed\": \"energy_consumed_hvac\"})\n",
    "mean_eec_hvac.head(5)"
   ]
  },
  {
   "cell_type": "code",
   "execution_count": null,
   "metadata": {},
   "outputs": [],
   "source": [
    "eec_elevator = eec_day[(eec_day.sensor == \"elevator-eec-meter\")]\n",
    "mean_eec_elevator = eec_elevator.groupby('date').mean()\n",
    "mean_eec_elevator = mean_eec_elevator.rename(columns={\"energy_consumed\": \"energy_consumed_elevator\"})\n",
    "mean_eec_elevator.head(5)"
   ]
  },
  {
   "cell_type": "code",
   "execution_count": null,
   "metadata": {},
   "outputs": [],
   "source": [
    "wifi = wifi.set_index('operating_date') #set date as index as the rest of the tables that are going to be merged\n",
    "wifi"
   ]
  },
  {
   "cell_type": "code",
   "execution_count": null,
   "metadata": {},
   "outputs": [],
   "source": [
    "#Merge all datas wifi, eec (elevator and hvac), weather\n",
    "df = pd.concat([mean_eec_elevator, mean_eec_hvac, wifi, mean_weather_new], axis = 1)\n",
    "df"
   ]
  },
  {
   "cell_type": "code",
   "execution_count": null,
   "metadata": {},
   "outputs": [],
   "source": [
    "#delete nan\n",
    "df = df.dropna(subset=[\"visits\"])"
   ]
  },
  {
   "cell_type": "markdown",
   "metadata": {},
   "source": [
    "Now we proceed to analize correlation of features"
   ]
  },
  {
   "cell_type": "code",
   "execution_count": null,
   "metadata": {},
   "outputs": [],
   "source": [
    "#corr plot\n",
    "corr = df.corr()\n",
    "fig = plt.figure()\n",
    "ax = fig.add_subplot(111)\n",
    "cax = ax.matshow(corr,cmap='coolwarm', vmin=-1, vmax=1)\n",
    "fig.colorbar(cax)\n",
    "ticks = np.arange(0,len(df.columns),1)\n",
    "ax.set_xticks(ticks)\n",
    "plt.xticks(rotation=90)\n",
    "ax.set_yticks(ticks)\n",
    "ax.set_xticklabels(df.columns)\n",
    "ax.set_yticklabels(df.columns)\n",
    "plt.show()"
   ]
  },
  {
   "cell_type": "code",
   "execution_count": null,
   "metadata": {},
   "outputs": [],
   "source": [
    "df.corr() #with values"
   ]
  },
  {
   "cell_type": "markdown",
   "metadata": {},
   "source": [
    "From here we can see that the variables: dewPoint, visibility, windBearing, windSpeed are not correlated at all with energy consumption (both sensors), so we proceed to delete these variables. Also, we delete apparentTemperature because is highly correlated with temperature, we only leave one to avoid multicolinearity"
   ]
  },
  {
   "cell_type": "code",
   "execution_count": null,
   "metadata": {},
   "outputs": [],
   "source": [
    "df = df.drop(columns = [\"dewPoint\",\"visibility\", \"windBearing\", \"windSpeed\",\"apparentTemperature\"])\n",
    "df.head()"
   ]
  },
  {
   "cell_type": "code",
   "execution_count": null,
   "metadata": {},
   "outputs": [],
   "source": [
    "#We export to a csv file\n",
    "df.to_csv('df_consolidated.csv')"
   ]
  },
  {
   "cell_type": "code",
   "execution_count": null,
   "metadata": {},
   "outputs": [],
   "source": [
    "#histograms\n",
    "#import pylab as pl\n",
    "viz = df[[\"energy_consumed_elevator\",\"energy_consumed_hvac\"]]\n",
    "viz.hist()\n",
    "plt.show()"
   ]
  },
  {
   "cell_type": "markdown",
   "metadata": {},
   "source": [
    "As both data distribution are very different, we proceed to separate the statiscal relationship by sensor"
   ]
  },
  {
   "cell_type": "code",
   "execution_count": null,
   "metadata": {},
   "outputs": [],
   "source": [
    "# #histograms\n",
    "# #import pylab as pl\n",
    "# viz = df[[\"visits\",\"humidity\",\"temperature\", \"uvIndex\",\"Degree_Dif\", \"HDD\"]]\n",
    "# viz.hist()\n",
    "# plt.show()"
   ]
  },
  {
   "cell_type": "markdown",
   "metadata": {},
   "source": [
    "## Multilinear Regression"
   ]
  },
  {
   "cell_type": "code",
   "execution_count": null,
   "metadata": {},
   "outputs": [],
   "source": [
    "# #histograms\n",
    "# #import pylab as pl\n",
    "# viz = df[df.columns]\n",
    "# viz.hist()\n",
    "# plt.show()"
   ]
  },
  {
   "cell_type": "code",
   "execution_count": null,
   "metadata": {},
   "outputs": [],
   "source": [
    "#define X,y to start modeling\n",
    "X = df.drop(columns = [\"energy_consumed_elevator\", \"energy_consumed_hvac\"])\n",
    "\n",
    "#we set our set of y which represents our independt variable for the model\n",
    "y_el = df['energy_consumed_elevator']\n",
    "y_ac = df['energy_consumed_hvac']"
   ]
  },
  {
   "cell_type": "markdown",
   "metadata": {},
   "source": [
    "### Y_el = Energy Elevator"
   ]
  },
  {
   "cell_type": "code",
   "execution_count": null,
   "metadata": {},
   "outputs": [],
   "source": [
    "#Divide into train and test subsets\n",
    "from sklearn.model_selection import train_test_split\n",
    "X_train, X_test, y_el_train, y_el_test = train_test_split(X, y_el, test_size=0.25, random_state=0)"
   ]
  },
  {
   "cell_type": "code",
   "execution_count": null,
   "metadata": {},
   "outputs": [],
   "source": [
    "#from sklearn import datasets\n",
    "from regressors import stats\n",
    "from sklearn import linear_model\n",
    "ols = linear_model.LinearRegression()\n",
    "ols.fit(X, y_el)\n",
    "xlabels = X_train.columns\n",
    "stats.summary(ols, X, y_el, xlabels)"
   ]
  },
  {
   "cell_type": "markdown",
   "metadata": {},
   "source": [
    "From here we need to observe the column of p-values which represent the significance of the variables. If p-value > 0,05 we say the variable is not significant for the model.\n",
    "\n",
    "Therefore, the variables with higher significance are: visit, temperature, uvIndex, HDD. So, a next step would be to do a regression with only this set of variables."
   ]
  },
  {
   "cell_type": "markdown",
   "metadata": {},
   "source": [
    "### Y_ac = Energy Hvac"
   ]
  },
  {
   "cell_type": "code",
   "execution_count": null,
   "metadata": {},
   "outputs": [],
   "source": [
    "#Divide into train and test subsets\n",
    "from sklearn.model_selection import train_test_split\n",
    "X_train, X_test, y_ac_train, y_ac_test = train_test_split(X, y_ac, test_size=0.25, random_state=0)"
   ]
  },
  {
   "cell_type": "code",
   "execution_count": null,
   "metadata": {},
   "outputs": [],
   "source": [
    "#from sklearn import datasets\n",
    "from regressors import stats\n",
    "from sklearn import linear_model\n",
    "ols = linear_model.LinearRegression()\n",
    "ols.fit(X, y_ac)\n",
    "xlabels = X_train.columns\n",
    "stats.summary(ols, X, y_ac, xlabels)"
   ]
  },
  {
   "cell_type": "markdown",
   "metadata": {},
   "source": [
    "Again we observe the p-values to understand the significance of the variables. \n",
    "Here, the variables with higher significance are visits, temperature and Degree_Dif due to p-value is below 0,05.\n",
    "\n",
    "So, a next step would be to do a regression with only this set of variables. I would also suggest to delete the variable HDD, since this variable represents the category (HDD or CDD) of Degree_Dif, and this last one would not be considered in the next model."
   ]
  },
  {
   "cell_type": "markdown",
   "metadata": {},
   "source": [
    "### To sum up: \n",
    "For boths models, variables with higher significance are:\n",
    "- Elevator = visit, temperature, uvIndex, HDD\n",
    "- Hvac = visit, temperature, Degree_Dif (HDD/CDD).\n",
    "\n",
    "In conclusion, as Degree_Dif represent the value of HDD and CDD, we say that Energy Consumed in both cases are highly affected by visitors, temperature and HDD/CDD"
   ]
  }
 ],
 "metadata": {
  "kernelspec": {
   "display_name": "Python 3",
   "language": "python",
   "name": "python3"
  },
  "language_info": {
   "codemirror_mode": {
    "name": "ipython",
    "version": 3
   },
   "file_extension": ".py",
   "mimetype": "text/x-python",
   "name": "python",
   "nbconvert_exporter": "python",
   "pygments_lexer": "ipython3",
   "version": "3.7.7"
  }
 },
 "nbformat": 4,
 "nbformat_minor": 4
}
